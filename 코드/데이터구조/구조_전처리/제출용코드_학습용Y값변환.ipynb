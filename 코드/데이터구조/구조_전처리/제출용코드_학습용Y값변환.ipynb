{
 "cells": [
  {
   "cell_type": "code",
   "execution_count": 11,
   "id": "8b563faf",
   "metadata": {
    "ExecuteTime": {
     "end_time": "2021-09-17T16:09:33.238571Z",
     "start_time": "2021-09-17T16:09:33.228557Z"
    }
   },
   "outputs": [],
   "source": [
    "import pandas as pd "
   ]
  },
  {
   "cell_type": "code",
   "execution_count": 12,
   "id": "2c2d933d",
   "metadata": {
    "ExecuteTime": {
     "end_time": "2021-09-17T16:09:33.301374Z",
     "start_time": "2021-09-17T16:09:33.239525Z"
    }
   },
   "outputs": [
    {
     "data": {
      "text/html": [
       "<div>\n",
       "<style scoped>\n",
       "    .dataframe tbody tr th:only-of-type {\n",
       "        vertical-align: middle;\n",
       "    }\n",
       "\n",
       "    .dataframe tbody tr th {\n",
       "        vertical-align: top;\n",
       "    }\n",
       "\n",
       "    .dataframe thead th {\n",
       "        text-align: right;\n",
       "    }\n",
       "</style>\n",
       "<table border=\"1\" class=\"dataframe\">\n",
       "  <thead>\n",
       "    <tr style=\"text-align: right;\">\n",
       "      <th></th>\n",
       "      <th>순번</th>\n",
       "      <th>이수구분</th>\n",
       "      <th>교과목명</th>\n",
       "      <th>성적</th>\n",
       "      <th>학점</th>\n",
       "      <th>semester</th>\n",
       "      <th>단과명</th>\n",
       "      <th>직무중분류</th>\n",
       "    </tr>\n",
       "  </thead>\n",
       "  <tbody>\n",
       "    <tr>\n",
       "      <th>0</th>\n",
       "      <td>A0001</td>\n",
       "      <td>교양</td>\n",
       "      <td>철학</td>\n",
       "      <td>9</td>\n",
       "      <td>2</td>\n",
       "      <td>6</td>\n",
       "      <td>체육대학</td>\n",
       "      <td>26.0</td>\n",
       "    </tr>\n",
       "    <tr>\n",
       "      <th>1</th>\n",
       "      <td>A0001</td>\n",
       "      <td>전선</td>\n",
       "      <td>스포츠일반</td>\n",
       "      <td>7</td>\n",
       "      <td>3</td>\n",
       "      <td>5</td>\n",
       "      <td>체육대학</td>\n",
       "      <td>26.0</td>\n",
       "    </tr>\n",
       "  </tbody>\n",
       "</table>\n",
       "</div>"
      ],
      "text/plain": [
       "      순번 이수구분   교과목명  성적  학점  semester   단과명  직무중분류\n",
       "0  A0001   교양     철학   9   2         6  체육대학   26.0\n",
       "1  A0001   전선  스포츠일반   7   3         5  체육대학   26.0"
      ]
     },
     "execution_count": 12,
     "metadata": {},
     "output_type": "execute_result"
    }
   ],
   "source": [
    "df = pd.read_csv('../final_data.csv')\n",
    "df.head(2)"
   ]
  },
  {
   "cell_type": "code",
   "execution_count": 13,
   "id": "5da1dac1",
   "metadata": {
    "ExecuteTime": {
     "end_time": "2021-09-17T16:09:33.316904Z",
     "start_time": "2021-09-17T16:09:33.303371Z"
    }
   },
   "outputs": [],
   "source": [
    "df['순번'] =  df['순번'].astype('category')\n",
    "df['순번'] = df.순번.cat.codes"
   ]
  },
  {
   "cell_type": "code",
   "execution_count": null,
   "id": "6fa3d798",
   "metadata": {},
   "outputs": [],
   "source": []
  },
  {
   "cell_type": "code",
   "execution_count": 14,
   "id": "8480689d",
   "metadata": {
    "ExecuteTime": {
     "end_time": "2021-09-17T16:09:33.332285Z",
     "start_time": "2021-09-17T16:09:33.317521Z"
    }
   },
   "outputs": [],
   "source": [
    "def sub_with_cond(index, semester):\n",
    "    cond_num = 1\n",
    "    grade = 9\n",
    "    while grade >= 0 and cond_num <= 20:\n",
    "        globals()['sub_list{}'.format(cond_num)] = df.loc[((df['순번']==index)\n",
    "                                                           &(df['semester']==semester)\n",
    "                                                           &(df['성적']==grade)\n",
    "                                                           &(df['학점']==3))]['교과목명']\n",
    "        cond_num += 1\n",
    "        globals()['sub_list{}'.format(cond_num)] =  df.loc[((df['순번']==index)\n",
    "                                                           &(df['semester']==semester)\n",
    "                                                           &(df['성적']==grade)\n",
    "                                                           &(df['학점']==2))]['교과목명']\n",
    "        cond_num += 1\n",
    "        grade -= 1"
   ]
  },
  {
   "cell_type": "code",
   "execution_count": 15,
   "id": "8e6cfc37",
   "metadata": {
    "ExecuteTime": {
     "end_time": "2021-09-17T16:09:53.069590Z",
     "start_time": "2021-09-17T16:09:33.332960Z"
    }
   },
   "outputs": [],
   "source": [
    "y_list = []\n",
    "for i in range(1068):\n",
    "    # 학기별로 바꿔서 사용\n",
    "    sub_with_cond(i,semester=5)\n",
    "    final_list = []\n",
    "    for j in range(1,21):\n",
    "        sub_lists = eval(\"sub_list\" + str(j)).tolist()\n",
    "        for k in sub_lists:\n",
    "            if len(sub_lists) > 0:\n",
    "                final_list.append(k)\n",
    "    y_list.append(final_list)"
   ]
  },
  {
   "cell_type": "code",
   "execution_count": 16,
   "id": "bafa5787",
   "metadata": {
    "ExecuteTime": {
     "end_time": "2021-09-17T16:09:53.085158Z",
     "start_time": "2021-09-17T16:09:53.070591Z"
    }
   },
   "outputs": [],
   "source": [
    "y = []\n",
    "for i in y_list:\n",
    "    if len(i) > 0:\n",
    "        y.append(i[0])\n",
    "    else:\n",
    "        y.append('')"
   ]
  },
  {
   "cell_type": "code",
   "execution_count": null,
   "id": "7b2977a8",
   "metadata": {},
   "outputs": [],
   "source": []
  },
  {
   "cell_type": "code",
   "execution_count": 17,
   "id": "9a3fff24",
   "metadata": {
    "ExecuteTime": {
     "end_time": "2021-09-17T16:09:53.100863Z",
     "start_time": "2021-09-17T16:09:53.085860Z"
    }
   },
   "outputs": [
    {
     "data": {
      "text/plain": [
       "[('', 208),\n",
       " ('경제학', 46),\n",
       " ('패션일반', 35),\n",
       " ('전기전자학', 35),\n",
       " ('패션기타', 32),\n",
       " ('컴퓨터소프트웨어', 28),\n",
       " ('법률학', 28),\n",
       " ('경영학', 27),\n",
       " ('국문학', 23),\n",
       " ('컴퓨터일반', 23),\n",
       " ('미술학', 21),\n",
       " ('회계학', 21),\n",
       " ('인사관리론', 20),\n",
       " ('가정학', 19),\n",
       " ('물리학', 18)]"
      ]
     },
     "execution_count": 17,
     "metadata": {},
     "output_type": "execute_result"
    }
   ],
   "source": [
    "from collections import Counter\n",
    "counter = Counter(y)\n",
    "counter.most_common(15)"
   ]
  },
  {
   "cell_type": "code",
   "execution_count": null,
   "id": "5240fdcf",
   "metadata": {},
   "outputs": [],
   "source": []
  }
 ],
 "metadata": {
  "kernelspec": {
   "display_name": "Python 3",
   "language": "python",
   "name": "python3"
  },
  "language_info": {
   "codemirror_mode": {
    "name": "ipython",
    "version": 3
   },
   "file_extension": ".py",
   "mimetype": "text/x-python",
   "name": "python",
   "nbconvert_exporter": "python",
   "pygments_lexer": "ipython3",
   "version": "3.8.8"
  },
  "toc": {
   "base_numbering": 1,
   "nav_menu": {},
   "number_sections": true,
   "sideBar": true,
   "skip_h1_title": false,
   "title_cell": "Table of Contents",
   "title_sidebar": "Contents",
   "toc_cell": false,
   "toc_position": {},
   "toc_section_display": true,
   "toc_window_display": false
  },
  "varInspector": {
   "cols": {
    "lenName": 16,
    "lenType": 16,
    "lenVar": 40
   },
   "kernels_config": {
    "python": {
     "delete_cmd_postfix": "",
     "delete_cmd_prefix": "del ",
     "library": "var_list.py",
     "varRefreshCmd": "print(var_dic_list())"
    },
    "r": {
     "delete_cmd_postfix": ") ",
     "delete_cmd_prefix": "rm(",
     "library": "var_list.r",
     "varRefreshCmd": "cat(var_dic_list()) "
    }
   },
   "types_to_exclude": [
    "module",
    "function",
    "builtin_function_or_method",
    "instance",
    "_Feature"
   ],
   "window_display": false
  }
 },
 "nbformat": 4,
 "nbformat_minor": 5
}
